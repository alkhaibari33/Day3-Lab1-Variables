{
 "cells": [
  {
   "cell_type": "code",
   "execution_count": null,
   "id": "7a0e391e",
   "metadata": {},
   "outputs": [],
   "source": [
    " Season = winter"
   ]
  },
  {
   "cell_type": "code",
   "execution_count": null,
   "id": "e880cda2",
   "metadata": {},
   "outputs": [],
   "source": [
    "x = 5\n",
    "y = 5.5"
   ]
  },
  {
   "cell_type": "code",
   "execution_count": null,
   "id": "34e3b0d3",
   "metadata": {},
   "outputs": [],
   "source": [
    "m=d=5"
   ]
  },
  {
   "cell_type": "code",
   "execution_count": null,
   "id": "0572ea32",
   "metadata": {},
   "outputs": [],
   "source": [
    "x = 5, 6"
   ]
  },
  {
   "cell_type": "code",
   "execution_count": null,
   "id": "516a57e3",
   "metadata": {},
   "outputs": [],
   "source": [
    "print (Season:{season} x:y:m)"
   ]
  }
 ],
 "metadata": {
  "kernelspec": {
   "display_name": "Python 3 (ipykernel)",
   "language": "python",
   "name": "python3"
  },
  "language_info": {
   "codemirror_mode": {
    "name": "ipython",
    "version": 3
   },
   "file_extension": ".py",
   "mimetype": "text/x-python",
   "name": "python",
   "nbconvert_exporter": "python",
   "pygments_lexer": "ipython3",
   "version": "3.9.12"
  }
 },
 "nbformat": 4,
 "nbformat_minor": 5
}
